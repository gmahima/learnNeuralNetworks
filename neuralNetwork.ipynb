{
 "cells": [
  {
   "cell_type": "code",
   "execution_count": 1,
   "metadata": {},
   "outputs": [],
   "source": [
    "import numpy"
   ]
  },
  {
   "cell_type": "code",
   "execution_count": 2,
   "metadata": {},
   "outputs": [],
   "source": [
    "import scipy.special"
   ]
  },
  {
   "cell_type": "code",
   "execution_count": 22,
   "metadata": {},
   "outputs": [],
   "source": [
    "class NeuralNetwork:\n",
    "    #init\n",
    "    def __init__(self, inputNodes, hiddenNodes, outputNodes, learningRate):\n",
    "        self.activationFunction = lambda x: scipy.special.expit(x)\n",
    "        self.inodes = inputNodes\n",
    "        self.hnodes = hiddenNodes\n",
    "        self.onodes = outputNodes\n",
    "        #learning rate\n",
    "        self.lr = learningRate\n",
    "        #ih weights\n",
    "        self.wih = (numpy.random.normal(0.0, pow(self.hnodes, -0.5),(self.hnodes, self.inodes)))\n",
    "        #ho weights\n",
    "        self.who = (numpy.random.normal(0.0, pow(self.onodes, -0.5),(self.onodes, self.hnodes)))\n",
    "        \n",
    "        pass\n",
    "    #train\n",
    "    def train(self, inputsList, targetsList):\n",
    "        inputs = numpy.array(inputsList, ndmin=2).T\n",
    "        targets = numpy.array(targetsList, ndmin=2).T#T means transpose, ndmin is min no of dimensions of array\n",
    "        hiddenInputs = numpy.dot(self.wih, inputs)\n",
    "        hiddenOutputs = self.activationFunction(hiddenInputs)\n",
    "        finalInputs = numpy.dot(self.who, hiddenOutputs)\n",
    "        finalOutputs = self.activationFunction(finalInputs)\n",
    "        outputErrors = targets - finalOutputs\n",
    "        hiddenErrors = numpy.dot(self.who.T, outputErrors)\n",
    "        self.who += self.lr*numpy.dot((outputErrors*finalOutputs*(1.0-finalOutputs)), numpy.transpose(hiddenOutputs))\n",
    "        self.wih += self.lr*numpy.dot((hiddenErrors*hiddenOutputs*(1.0-hiddenOutputs)), numpy.transpose(inputs))\n",
    "        pass\n",
    "    #query\n",
    "    def query(self, inputsList):\n",
    "        inputs = numpy.array(inputsList, ndmin=2).T #T means transpose, ndmin is min no of dimensions of array\n",
    "        hiddenInputs = numpy.dot(self.wih, inputs)\n",
    "        hiddenOutputs = self.activationFunction(hiddenInputs)\n",
    "        finalInputs = numpy.dot(self.who, hiddenOutputs)\n",
    "        finalOutputs = self.activationFunction(finalInputs)\n",
    "        \n",
    "        return finalOutputs\n",
    "    pass"
   ]
  },
  {
   "cell_type": "code",
   "execution_count": 23,
   "metadata": {},
   "outputs": [],
   "source": [
    "inpn = 784\n",
    "hn= 100\n",
    "on = 10\n",
    "lr = 0.3\n",
    "n = NeuralNetwork(inpn, hn, on, lr)"
   ]
  },
  {
   "cell_type": "code",
   "execution_count": 24,
   "metadata": {},
   "outputs": [],
   "source": [
    "trainingDataFile = open('../Downloads/mnist_train_100.csv','r')"
   ]
  },
  {
   "cell_type": "code",
   "execution_count": 25,
   "metadata": {},
   "outputs": [],
   "source": [
    "trainingDataList = trainingDataFile.readlines()"
   ]
  },
  {
   "cell_type": "code",
   "execution_count": 26,
   "metadata": {},
   "outputs": [],
   "source": [
    "trainingDataFile.close()"
   ]
  },
  {
   "cell_type": "code",
   "execution_count": 29,
   "metadata": {},
   "outputs": [],
   "source": [
    "for record in trainingDataList:\n",
    "    allValues = record.split(',')\n",
    "    inputs = (numpy.asfarray(allValues[1:])/255.0*0.99) + 0.1\n",
    "    targets = numpy.zeros(on) + 0.1\n",
    "    targets[int(allValues[0])] = 0.99\n",
    "    n.train(inputs, targets)\n",
    "    pass\n"
   ]
  },
  {
   "cell_type": "code",
   "execution_count": 31,
   "metadata": {},
   "outputs": [],
   "source": [
    "testingDataFile = open('../Downloads/mnist_test_10.csv','r')\n",
    "testingDataList = testingDataFile.readlines()\n",
    "testingDataFile.close()"
   ]
  },
  {
   "cell_type": "code",
   "execution_count": 36,
   "metadata": {},
   "outputs": [],
   "source": [
    "allValues = testingDataList[0].split(',')"
   ]
  },
  {
   "cell_type": "code",
   "execution_count": 38,
   "metadata": {},
   "outputs": [
    {
     "name": "stdout",
     "output_type": "stream",
     "text": [
      "7\n"
     ]
    }
   ],
   "source": [
    "print(allValues[0])"
   ]
  },
  {
   "cell_type": "code",
   "execution_count": 39,
   "metadata": {},
   "outputs": [
    {
     "data": {
      "text/plain": [
       "array([[ 0.14544115],\n",
       "       [ 0.04522721],\n",
       "       [ 0.15780243],\n",
       "       [ 0.15625868],\n",
       "       [ 0.03071543],\n",
       "       [ 0.10330743],\n",
       "       [ 0.02624341],\n",
       "       [ 0.92964102],\n",
       "       [ 0.13718269],\n",
       "       [ 0.01558042]])"
      ]
     },
     "execution_count": 39,
     "metadata": {},
     "output_type": "execute_result"
    }
   ],
   "source": [
    "n.query((numpy.asfarray(allValues[1:])/255.0*0.99) + 0.1)"
   ]
  }
 ],
 "metadata": {
  "kernelspec": {
   "display_name": "Python 3",
   "language": "python",
   "name": "python3"
  },
  "language_info": {
   "codemirror_mode": {
    "name": "ipython",
    "version": 3
   },
   "file_extension": ".py",
   "mimetype": "text/x-python",
   "name": "python",
   "nbconvert_exporter": "python",
   "pygments_lexer": "ipython3",
   "version": "3.6.6"
  }
 },
 "nbformat": 4,
 "nbformat_minor": 2
}
