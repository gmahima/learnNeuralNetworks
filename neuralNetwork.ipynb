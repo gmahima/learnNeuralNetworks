{
 "cells": [
  {
   "cell_type": "code",
   "execution_count": 1,
   "metadata": {},
   "outputs": [],
   "source": [
    "import numpy"
   ]
  },
  {
   "cell_type": "code",
   "execution_count": 2,
   "metadata": {},
   "outputs": [],
   "source": [
    "import scipy.special"
   ]
  },
  {
   "cell_type": "code",
   "execution_count": 9,
   "metadata": {},
   "outputs": [],
   "source": [
    "class NeuralNetwork:\n",
    "    #init\n",
    "    def __init__(self, inputNodes, hiddenNodes, outputNodes, learningRate):\n",
    "        self.activationFunction = lambda x: scipy.special.expit(x)\n",
    "        self.inodes = inputNodes\n",
    "        self.hnodes = hiddenNodes\n",
    "        self.onodes = outputNodes\n",
    "        #learning rate\n",
    "        self.lr = learningRate\n",
    "        #ih weights\n",
    "        self.wih = (numpy.random.normal(0.0, pow(self.hnodes, -0.5),(self.hnodes, self.inodes)))\n",
    "        #ho weights\n",
    "        self.who = (numpy.random.normal(0.0, pow(self.onodes, -0.5),(self.onodes, self.hnodes)))\n",
    "        \n",
    "        pass\n",
    "    #train\n",
    "    def train(self, inputsList, targetsList):\n",
    "        inputs = numpy.array(inputsList, ndmin=2).T\n",
    "        targets = numpy.array(targetsList, ndmin=2).T#T means transpose, ndmin is min no of dimensions of array\n",
    "        hiddenInputs = numpy.dot(self.wih, inputs)\n",
    "        hiddenOutputs = self.activationFunction(hiddenInputs)\n",
    "        finalInputs = numpy.dot(self.who, hiddenOutputs)\n",
    "        finalOutputs = self.activationFunction(finalInputs)\n",
    "        outputErrors = targets - finalOutputs\n",
    "        hiddenErrors = numpy.dot(self.who.T, finalErrors)\n",
    "        self.who += self.lr*numpy.dot((outputErrors*finalOutputs*(1.0-finalOutputs)), numpy.transpose(hiddenOutputs))\n",
    "        self.wih += self.lr*numpy.dot((hiddenErrors*hiddenOutputs*(1.0-hiddenOutputs)), numpy.transpose(inputs))\n",
    "        pass\n",
    "    #query\n",
    "    def query(self, inputsList):\n",
    "        inputs = numpy.array(inputsList, ndmin=2).T #T means transpose, ndmin is min no of dimensions of array\n",
    "        hiddenInputs = numpy.dot(self.wih, inputs)\n",
    "        hiddenOutputs = self.activationFunction(hiddenInputs)\n",
    "        finalInputs = numpy.dot(self.who, hiddenOutputs)\n",
    "        finalOutputs = self.activationFunction(finalInputs)\n",
    "        \n",
    "        return finalOutputs\n",
    "    pass"
   ]
  },
  {
   "cell_type": "code",
   "execution_count": 5,
   "metadata": {},
   "outputs": [
    {
     "name": "stdout",
     "output_type": "stream",
     "text": [
      "[[-0.92565018  0.56216268 -0.24000249]\n",
      " [-0.61245775 -0.73844407 -0.20677683]\n",
      " [-0.32451232 -1.042486   -0.01270123]]\n"
     ]
    }
   ],
   "source": [
    "inp = 3\n",
    "hnp = 3\n",
    "onp = 3\n",
    "lr = 0.3\n",
    "n = NeuralNetwork(inp, hnp, onp, lr)\n",
    "print(n.who)"
   ]
  },
  {
   "cell_type": "code",
   "execution_count": 6,
   "metadata": {},
   "outputs": [
    {
     "data": {
      "text/plain": [
       "array([[ 0.47557042],\n",
       "       [ 0.32138856],\n",
       "       [ 0.32217116]])"
      ]
     },
     "execution_count": 6,
     "metadata": {},
     "output_type": "execute_result"
    }
   ],
   "source": [
    "n.query([0.5, 0.3, -0.7])"
   ]
  },
  {
   "cell_type": "code",
   "execution_count": null,
   "metadata": {},
   "outputs": [],
   "source": []
  }
 ],
 "metadata": {
  "kernelspec": {
   "display_name": "Python 3",
   "language": "python",
   "name": "python3"
  },
  "language_info": {
   "codemirror_mode": {
    "name": "ipython",
    "version": 3
   },
   "file_extension": ".py",
   "mimetype": "text/x-python",
   "name": "python",
   "nbconvert_exporter": "python",
   "pygments_lexer": "ipython3",
   "version": "3.6.6"
  }
 },
 "nbformat": 4,
 "nbformat_minor": 2
}
